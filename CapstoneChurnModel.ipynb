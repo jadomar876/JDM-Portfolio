{
 "cells": [
  {
   "cell_type": "code",
   "execution_count": 5,
   "id": "17e04a73-fec6-48e9-9522-d43ceeda6fd6",
   "metadata": {},
   "outputs": [],
   "source": [
    "import pandas as pd"
   ]
  },
  {
   "cell_type": "code",
   "execution_count": 6,
   "id": "65281c26-7851-4b5b-ae73-dd315ccc5be2",
   "metadata": {},
   "outputs": [],
   "source": [
    "file_path = r\"C:\\Users\\TBeharrie-Green\\Desktop\\B.AN SENECA\\BAN240\\telco.csv\"\n",
    "df = pd.read_csv(file_path)"
   ]
  },
  {
   "cell_type": "code",
   "execution_count": 7,
   "id": "7afc739c-af2e-47ad-9134-a1b72a61adde",
   "metadata": {},
   "outputs": [
    {
     "data": {
      "text/html": [
       "<div>\n",
       "<style scoped>\n",
       "    .dataframe tbody tr th:only-of-type {\n",
       "        vertical-align: middle;\n",
       "    }\n",
       "\n",
       "    .dataframe tbody tr th {\n",
       "        vertical-align: top;\n",
       "    }\n",
       "\n",
       "    .dataframe thead th {\n",
       "        text-align: right;\n",
       "    }\n",
       "</style>\n",
       "<table border=\"1\" class=\"dataframe\">\n",
       "  <thead>\n",
       "    <tr style=\"text-align: right;\">\n",
       "      <th></th>\n",
       "      <th>Customer ID</th>\n",
       "      <th>Gender</th>\n",
       "      <th>Age</th>\n",
       "      <th>Under 30</th>\n",
       "      <th>Senior Citizen</th>\n",
       "      <th>Married</th>\n",
       "      <th>Dependents</th>\n",
       "      <th>Number of Dependents</th>\n",
       "      <th>Country</th>\n",
       "      <th>State</th>\n",
       "      <th>...</th>\n",
       "      <th>Total Extra Data Charges</th>\n",
       "      <th>Total Long Distance Charges</th>\n",
       "      <th>Total Revenue</th>\n",
       "      <th>Satisfaction Score</th>\n",
       "      <th>Customer Status</th>\n",
       "      <th>Churn Label</th>\n",
       "      <th>Churn Score</th>\n",
       "      <th>CLTV</th>\n",
       "      <th>Churn Category</th>\n",
       "      <th>Churn Reason</th>\n",
       "    </tr>\n",
       "  </thead>\n",
       "  <tbody>\n",
       "    <tr>\n",
       "      <th>0</th>\n",
       "      <td>8779-QRDMV</td>\n",
       "      <td>Male</td>\n",
       "      <td>78</td>\n",
       "      <td>No</td>\n",
       "      <td>Yes</td>\n",
       "      <td>No</td>\n",
       "      <td>No</td>\n",
       "      <td>0</td>\n",
       "      <td>United States</td>\n",
       "      <td>California</td>\n",
       "      <td>...</td>\n",
       "      <td>20</td>\n",
       "      <td>0.00</td>\n",
       "      <td>59.65</td>\n",
       "      <td>3</td>\n",
       "      <td>Churned</td>\n",
       "      <td>Yes</td>\n",
       "      <td>91</td>\n",
       "      <td>5433</td>\n",
       "      <td>Competitor</td>\n",
       "      <td>Competitor offered more data</td>\n",
       "    </tr>\n",
       "    <tr>\n",
       "      <th>1</th>\n",
       "      <td>7495-OOKFY</td>\n",
       "      <td>Female</td>\n",
       "      <td>74</td>\n",
       "      <td>No</td>\n",
       "      <td>Yes</td>\n",
       "      <td>Yes</td>\n",
       "      <td>Yes</td>\n",
       "      <td>1</td>\n",
       "      <td>United States</td>\n",
       "      <td>California</td>\n",
       "      <td>...</td>\n",
       "      <td>0</td>\n",
       "      <td>390.80</td>\n",
       "      <td>1024.10</td>\n",
       "      <td>3</td>\n",
       "      <td>Churned</td>\n",
       "      <td>Yes</td>\n",
       "      <td>69</td>\n",
       "      <td>5302</td>\n",
       "      <td>Competitor</td>\n",
       "      <td>Competitor made better offer</td>\n",
       "    </tr>\n",
       "    <tr>\n",
       "      <th>2</th>\n",
       "      <td>1658-BYGOY</td>\n",
       "      <td>Male</td>\n",
       "      <td>71</td>\n",
       "      <td>No</td>\n",
       "      <td>Yes</td>\n",
       "      <td>No</td>\n",
       "      <td>Yes</td>\n",
       "      <td>3</td>\n",
       "      <td>United States</td>\n",
       "      <td>California</td>\n",
       "      <td>...</td>\n",
       "      <td>0</td>\n",
       "      <td>203.94</td>\n",
       "      <td>1910.88</td>\n",
       "      <td>2</td>\n",
       "      <td>Churned</td>\n",
       "      <td>Yes</td>\n",
       "      <td>81</td>\n",
       "      <td>3179</td>\n",
       "      <td>Competitor</td>\n",
       "      <td>Competitor made better offer</td>\n",
       "    </tr>\n",
       "    <tr>\n",
       "      <th>3</th>\n",
       "      <td>4598-XLKNJ</td>\n",
       "      <td>Female</td>\n",
       "      <td>78</td>\n",
       "      <td>No</td>\n",
       "      <td>Yes</td>\n",
       "      <td>Yes</td>\n",
       "      <td>Yes</td>\n",
       "      <td>1</td>\n",
       "      <td>United States</td>\n",
       "      <td>California</td>\n",
       "      <td>...</td>\n",
       "      <td>0</td>\n",
       "      <td>494.00</td>\n",
       "      <td>2995.07</td>\n",
       "      <td>2</td>\n",
       "      <td>Churned</td>\n",
       "      <td>Yes</td>\n",
       "      <td>88</td>\n",
       "      <td>5337</td>\n",
       "      <td>Dissatisfaction</td>\n",
       "      <td>Limited range of services</td>\n",
       "    </tr>\n",
       "    <tr>\n",
       "      <th>4</th>\n",
       "      <td>4846-WHAFZ</td>\n",
       "      <td>Female</td>\n",
       "      <td>80</td>\n",
       "      <td>No</td>\n",
       "      <td>Yes</td>\n",
       "      <td>Yes</td>\n",
       "      <td>Yes</td>\n",
       "      <td>1</td>\n",
       "      <td>United States</td>\n",
       "      <td>California</td>\n",
       "      <td>...</td>\n",
       "      <td>0</td>\n",
       "      <td>234.21</td>\n",
       "      <td>3102.36</td>\n",
       "      <td>2</td>\n",
       "      <td>Churned</td>\n",
       "      <td>Yes</td>\n",
       "      <td>67</td>\n",
       "      <td>2793</td>\n",
       "      <td>Price</td>\n",
       "      <td>Extra data charges</td>\n",
       "    </tr>\n",
       "  </tbody>\n",
       "</table>\n",
       "<p>5 rows × 50 columns</p>\n",
       "</div>"
      ],
      "text/plain": [
       "  Customer ID  Gender  Age Under 30 Senior Citizen Married Dependents  \\\n",
       "0  8779-QRDMV    Male   78       No            Yes      No         No   \n",
       "1  7495-OOKFY  Female   74       No            Yes     Yes        Yes   \n",
       "2  1658-BYGOY    Male   71       No            Yes      No        Yes   \n",
       "3  4598-XLKNJ  Female   78       No            Yes     Yes        Yes   \n",
       "4  4846-WHAFZ  Female   80       No            Yes     Yes        Yes   \n",
       "\n",
       "   Number of Dependents        Country       State  ...  \\\n",
       "0                     0  United States  California  ...   \n",
       "1                     1  United States  California  ...   \n",
       "2                     3  United States  California  ...   \n",
       "3                     1  United States  California  ...   \n",
       "4                     1  United States  California  ...   \n",
       "\n",
       "  Total Extra Data Charges  Total Long Distance Charges  Total Revenue  \\\n",
       "0                       20                         0.00          59.65   \n",
       "1                        0                       390.80        1024.10   \n",
       "2                        0                       203.94        1910.88   \n",
       "3                        0                       494.00        2995.07   \n",
       "4                        0                       234.21        3102.36   \n",
       "\n",
       "   Satisfaction Score  Customer Status Churn Label Churn Score  CLTV  \\\n",
       "0                   3          Churned         Yes          91  5433   \n",
       "1                   3          Churned         Yes          69  5302   \n",
       "2                   2          Churned         Yes          81  3179   \n",
       "3                   2          Churned         Yes          88  5337   \n",
       "4                   2          Churned         Yes          67  2793   \n",
       "\n",
       "    Churn Category                  Churn Reason  \n",
       "0       Competitor  Competitor offered more data  \n",
       "1       Competitor  Competitor made better offer  \n",
       "2       Competitor  Competitor made better offer  \n",
       "3  Dissatisfaction     Limited range of services  \n",
       "4            Price            Extra data charges  \n",
       "\n",
       "[5 rows x 50 columns]"
      ]
     },
     "execution_count": 7,
     "metadata": {},
     "output_type": "execute_result"
    }
   ],
   "source": [
    "df.head()"
   ]
  },
  {
   "cell_type": "code",
   "execution_count": 9,
   "id": "d3ab0441-8b5b-416a-af6f-777f6c83152b",
   "metadata": {},
   "outputs": [],
   "source": [
    "#Checking for missing values\n",
    "missing_values = df.isnull().sum()"
   ]
  },
  {
   "cell_type": "code",
   "execution_count": 11,
   "id": "03575071-b6ed-42ad-b280-24eb37dade9f",
   "metadata": {},
   "outputs": [],
   "source": [
    "data_types = df.dtypes"
   ]
  },
  {
   "cell_type": "code",
   "execution_count": 13,
   "id": "36b4d924-f9db-456b-9a65-5b4aec108064",
   "metadata": {},
   "outputs": [
    {
     "data": {
      "text/plain": [
       "Customer ID                             0\n",
       "Gender                                  0\n",
       "Age                                     0\n",
       "Under 30                                0\n",
       "Senior Citizen                          0\n",
       "Married                                 0\n",
       "Dependents                              0\n",
       "Number of Dependents                    0\n",
       "Country                                 0\n",
       "State                                   0\n",
       "City                                    0\n",
       "Zip Code                                0\n",
       "Latitude                                0\n",
       "Longitude                               0\n",
       "Population                              0\n",
       "Quarter                                 0\n",
       "Referred a Friend                       0\n",
       "Number of Referrals                     0\n",
       "Tenure in Months                        0\n",
       "Offer                                3877\n",
       "Phone Service                           0\n",
       "Avg Monthly Long Distance Charges       0\n",
       "Multiple Lines                          0\n",
       "Internet Service                        0\n",
       "Internet Type                        1526\n",
       "Avg Monthly GB Download                 0\n",
       "Online Security                         0\n",
       "Online Backup                           0\n",
       "Device Protection Plan                  0\n",
       "Premium Tech Support                    0\n",
       "Streaming TV                            0\n",
       "Streaming Movies                        0\n",
       "Streaming Music                         0\n",
       "Unlimited Data                          0\n",
       "Contract                                0\n",
       "Paperless Billing                       0\n",
       "Payment Method                          0\n",
       "Monthly Charge                          0\n",
       "Total Charges                           0\n",
       "Total Refunds                           0\n",
       "Total Extra Data Charges                0\n",
       "Total Long Distance Charges             0\n",
       "Total Revenue                           0\n",
       "Satisfaction Score                      0\n",
       "Customer Status                         0\n",
       "Churn Label                             0\n",
       "Churn Score                             0\n",
       "CLTV                                    0\n",
       "Churn Category                       5174\n",
       "Churn Reason                         5174\n",
       "dtype: int64"
      ]
     },
     "execution_count": 13,
     "metadata": {},
     "output_type": "execute_result"
    }
   ],
   "source": [
    "missing_values"
   ]
  },
  {
   "cell_type": "code",
   "execution_count": 14,
   "id": "81e523dc-f4ee-4443-9182-e90bb83b5aaf",
   "metadata": {},
   "outputs": [
    {
     "data": {
      "text/plain": [
       "Customer ID                           object\n",
       "Gender                                object\n",
       "Age                                    int64\n",
       "Under 30                              object\n",
       "Senior Citizen                        object\n",
       "Married                               object\n",
       "Dependents                            object\n",
       "Number of Dependents                   int64\n",
       "Country                               object\n",
       "State                                 object\n",
       "City                                  object\n",
       "Zip Code                               int64\n",
       "Latitude                             float64\n",
       "Longitude                            float64\n",
       "Population                             int64\n",
       "Quarter                               object\n",
       "Referred a Friend                     object\n",
       "Number of Referrals                    int64\n",
       "Tenure in Months                       int64\n",
       "Offer                                 object\n",
       "Phone Service                         object\n",
       "Avg Monthly Long Distance Charges    float64\n",
       "Multiple Lines                        object\n",
       "Internet Service                      object\n",
       "Internet Type                         object\n",
       "Avg Monthly GB Download                int64\n",
       "Online Security                       object\n",
       "Online Backup                         object\n",
       "Device Protection Plan                object\n",
       "Premium Tech Support                  object\n",
       "Streaming TV                          object\n",
       "Streaming Movies                      object\n",
       "Streaming Music                       object\n",
       "Unlimited Data                        object\n",
       "Contract                              object\n",
       "Paperless Billing                     object\n",
       "Payment Method                        object\n",
       "Monthly Charge                       float64\n",
       "Total Charges                        float64\n",
       "Total Refunds                        float64\n",
       "Total Extra Data Charges               int64\n",
       "Total Long Distance Charges          float64\n",
       "Total Revenue                        float64\n",
       "Satisfaction Score                     int64\n",
       "Customer Status                       object\n",
       "Churn Label                           object\n",
       "Churn Score                            int64\n",
       "CLTV                                   int64\n",
       "Churn Category                        object\n",
       "Churn Reason                          object\n",
       "dtype: object"
      ]
     },
     "execution_count": 14,
     "metadata": {},
     "output_type": "execute_result"
    }
   ],
   "source": [
    "data_types"
   ]
  },
  {
   "cell_type": "code",
   "execution_count": 16,
   "id": "dbb1365e-85b6-4d6d-888a-6192d56e8ae7",
   "metadata": {},
   "outputs": [],
   "source": [
    "from sklearn.preprocessing import OneHotEncoder, StandardScaler\n",
    "from sklearn.compose import ColumnTransformer\n",
    "from sklearn.pipeline import Pipeline\n",
    "\n",
    "# Identify categorical and numerical columns\n",
    "categorical_cols = df.select_dtypes(include=['object']).columns.tolist()\n",
    "numerical_cols = df.select_dtypes(include=['int64', 'float64']).columns.tolist()"
   ]
  },
  {
   "cell_type": "code",
   "execution_count": 17,
   "id": "1215137d-1dcd-4ee2-93a5-fb25da97798e",
   "metadata": {},
   "outputs": [],
   "source": [
    "#remove target variables from features\n",
    "categorical_cols.remove('Customer ID')\n",
    "categorical_cols.remove('Churn Label')\n",
    "numerical_cols.remove('Churn Score')\n"
   ]
  },
  {
   "cell_type": "code",
   "execution_count": 18,
   "id": "ef8afc93-7195-425e-87e0-67face8be040",
   "metadata": {},
   "outputs": [],
   "source": [
    "#pipelines for preprocessing\n",
    "categorical_transformer = Pipeline(steps=[\n",
    "    ('onehot', OneHotEncoder(handle_unknown='ignore'))\n",
    "])"
   ]
  },
  {
   "cell_type": "code",
   "execution_count": 19,
   "id": "8f902b92-7b12-4916-99cf-73a860f7f584",
   "metadata": {},
   "outputs": [],
   "source": [
    "numerical_transformer = Pipeline(steps=[\n",
    "    ('scaler', StandardScaler())\n",
    "])"
   ]
  },
  {
   "cell_type": "code",
   "execution_count": 20,
   "id": "57e9c74b-811b-4107-96c4-e24f021def2a",
   "metadata": {},
   "outputs": [],
   "source": [
    "#combine the preprocessing steps\n",
    "preprocessor = ColumnTransformer(\n",
    "    transformers=[\n",
    "        ('num', numerical_transformer, numerical_cols),\n",
    "        ('cat', categorical_transformer, categorical_cols)\n",
    "    ])"
   ]
  },
  {
   "cell_type": "code",
   "execution_count": 21,
   "id": "5f231fb8-ee3c-4465-8e1d-3bf113d6fb24",
   "metadata": {},
   "outputs": [],
   "source": [
    "#apply transformations to the data\n",
    "data_processed = preprocessor.fit_transform(df)"
   ]
  },
  {
   "cell_type": "code",
   "execution_count": 22,
   "id": "3c846ff0-c496-4fd8-b88a-b5321713c193",
   "metadata": {},
   "outputs": [
    {
     "data": {
      "text/plain": [
       "<5x1209 sparse matrix of type '<class 'numpy.float64'>'\n",
       "\twith 235 stored elements in Compressed Sparse Row format>"
      ]
     },
     "execution_count": 22,
     "metadata": {},
     "output_type": "execute_result"
    }
   ],
   "source": [
    "data_processed[:5]"
   ]
  },
  {
   "cell_type": "markdown",
   "id": "04551573-d75f-432b-a17f-1692ad434727",
   "metadata": {},
   "source": [
    "Model Training and Evaluation\n"
   ]
  },
  {
   "cell_type": "code",
   "execution_count": 23,
   "id": "cfcd759b-557c-4ff1-86a2-61fcfea078b4",
   "metadata": {},
   "outputs": [],
   "source": [
    "from sklearn.model_selection import train_test_split\n",
    "from sklearn.linear_model import LogisticRegression\n",
    "from sklearn.ensemble import RandomForestClassifier, GradientBoostingClassifier\n",
    "from sklearn.metrics import classification_report, roc_auc_score"
   ]
  },
  {
   "cell_type": "code",
   "execution_count": 24,
   "id": "fd542966-e84c-40e4-a5ac-f4b12b8be31b",
   "metadata": {},
   "outputs": [],
   "source": [
    "#separate the feature and target variable\n",
    "X = data_processed\n",
    "y = df['Churn Label'].apply(lambda x:1 if x== 'Yes' else 0)"
   ]
  },
  {
   "cell_type": "code",
   "execution_count": 25,
   "id": "b39188ae-bbb7-4690-a063-67ce36653c67",
   "metadata": {},
   "outputs": [],
   "source": [
    "#split the data into training and testing sets\n",
    "X_train, X_test, y_train, y_test = train_test_split(X, y, test_size=0.2, random_state=42)"
   ]
  },
  {
   "cell_type": "code",
   "execution_count": 26,
   "id": "609c9fc8-ca23-4804-b1a4-f87f91b02549",
   "metadata": {},
   "outputs": [],
   "source": [
    "#define the models\n",
    "models = {\n",
    "    'Logistic Regression': LogisticRegression(max_iter=1000),\n",
    "    'Random Forest': RandomForestClassifier(),\n",
    "    'Gradient Boosting': GradientBoostingClassifier()\n",
    "}"
   ]
  },
  {
   "cell_type": "code",
   "execution_count": 27,
   "id": "ab581ee2-e854-4abc-8386-ab2872c8ec21",
   "metadata": {
    "scrolled": true
   },
   "outputs": [
    {
     "name": "stdout",
     "output_type": "stream",
     "text": [
      "Model: Logistic Regression\n",
      "              precision    recall  f1-score   support\n",
      "\n",
      "           0       1.00      1.00      1.00      1009\n",
      "           1       1.00      1.00      1.00       400\n",
      "\n",
      "    accuracy                           1.00      1409\n",
      "   macro avg       1.00      1.00      1.00      1409\n",
      "weighted avg       1.00      1.00      1.00      1409\n",
      "\n",
      "AUC-ROC:  1.00\n",
      "\n",
      "Model: Random Forest\n",
      "              precision    recall  f1-score   support\n",
      "\n",
      "           0       1.00      1.00      1.00      1009\n",
      "           1       1.00      1.00      1.00       400\n",
      "\n",
      "    accuracy                           1.00      1409\n",
      "   macro avg       1.00      1.00      1.00      1409\n",
      "weighted avg       1.00      1.00      1.00      1409\n",
      "\n",
      "AUC-ROC:  1.00\n",
      "\n",
      "Model: Gradient Boosting\n",
      "              precision    recall  f1-score   support\n",
      "\n",
      "           0       1.00      1.00      1.00      1009\n",
      "           1       1.00      1.00      1.00       400\n",
      "\n",
      "    accuracy                           1.00      1409\n",
      "   macro avg       1.00      1.00      1.00      1409\n",
      "weighted avg       1.00      1.00      1.00      1409\n",
      "\n",
      "AUC-ROC:  1.00\n",
      "\n"
     ]
    }
   ],
   "source": [
    "#train and evaluate the models\n",
    "for model_name, model in models.items():\n",
    "    #train the model\n",
    "    model.fit(X_train, y_train)\n",
    "    \n",
    "    #predict on the test set\n",
    "    y_pred = model.predict(X_test)\n",
    "    y_pred_prob = model.predict_proba(X_test)[:,1]\n",
    "    \n",
    "    #evaluate the model\n",
    "    print(f\"Model: {model_name}\")\n",
    "    print(classification_report(y_test, y_pred))\n",
    "    print(f\"AUC-ROC: {roc_auc_score(y_test, y_pred_prob): .2f}\\n\")"
   ]
  },
  {
   "cell_type": "markdown",
   "id": "884a3b00-a17c-4779-82d9-5618602f7771",
   "metadata": {},
   "source": [
    "Model Interpretation and Recommendations"
   ]
  },
  {
   "cell_type": "code",
   "execution_count": 28,
   "id": "82184f97-dd18-4dea-a60b-22ed2770f9b4",
   "metadata": {},
   "outputs": [],
   "source": [
    "import numpy as np"
   ]
  },
  {
   "cell_type": "code",
   "execution_count": 34,
   "id": "4baa5eae-55bf-454e-8351-792afd285e04",
   "metadata": {},
   "outputs": [],
   "source": [
    "#get feature names after preprocessing\n",
    "from sklearn.compose import ColumnTransformer\n",
    "feature_names = preprocessor.get_feature_names_out()\n"
   ]
  },
  {
   "cell_type": "code",
   "execution_count": 35,
   "id": "6ef514eb-8d9d-461e-afed-025af0bd1bc6",
   "metadata": {},
   "outputs": [],
   "source": [
    "#getting the feature importances from the Random Forest model\n",
    "feature_importances = models['Random Forest'].feature_importances_"
   ]
  },
  {
   "cell_type": "code",
   "execution_count": 36,
   "id": "d12ec90d-082b-47a6-b996-b7a1ab09246d",
   "metadata": {},
   "outputs": [],
   "source": [
    "#creating a DataFrame for feature importances\n",
    "feature_importance_df = pd.DataFrame({\n",
    "    'Feature': feature_names,\n",
    "    'Importance': feature_importances\n",
    "})"
   ]
  },
  {
   "cell_type": "code",
   "execution_count": 37,
   "id": "a81fea2c-6070-4d5d-b52f-0333bc8cfef2",
   "metadata": {},
   "outputs": [],
   "source": [
    "#sorting features by importance\n",
    "feature_importance_df = feature_importance_df.sort_values(by= 'Importance', ascending=False)"
   ]
  },
  {
   "cell_type": "code",
   "execution_count": 38,
   "id": "c8502f4e-6ace-468e-9a43-6d769014986c",
   "metadata": {},
   "outputs": [
    {
     "data": {
      "text/html": [
       "<div>\n",
       "<style scoped>\n",
       "    .dataframe tbody tr th:only-of-type {\n",
       "        vertical-align: middle;\n",
       "    }\n",
       "\n",
       "    .dataframe tbody tr th {\n",
       "        vertical-align: top;\n",
       "    }\n",
       "\n",
       "    .dataframe thead th {\n",
       "        text-align: right;\n",
       "    }\n",
       "</style>\n",
       "<table border=\"1\" class=\"dataframe\">\n",
       "  <thead>\n",
       "    <tr style=\"text-align: right;\">\n",
       "      <th></th>\n",
       "      <th>Feature</th>\n",
       "      <th>Importance</th>\n",
       "    </tr>\n",
       "  </thead>\n",
       "  <tbody>\n",
       "    <tr>\n",
       "      <th>1179</th>\n",
       "      <td>cat__Customer Status_Churned</td>\n",
       "      <td>0.167602</td>\n",
       "    </tr>\n",
       "    <tr>\n",
       "      <th>1187</th>\n",
       "      <td>cat__Churn Category_nan</td>\n",
       "      <td>0.154737</td>\n",
       "    </tr>\n",
       "    <tr>\n",
       "      <th>1208</th>\n",
       "      <td>cat__Churn Reason_nan</td>\n",
       "      <td>0.151925</td>\n",
       "    </tr>\n",
       "    <tr>\n",
       "      <th>16</th>\n",
       "      <td>num__Satisfaction Score</td>\n",
       "      <td>0.082872</td>\n",
       "    </tr>\n",
       "    <tr>\n",
       "      <th>1181</th>\n",
       "      <td>cat__Customer Status_Stayed</td>\n",
       "      <td>0.082154</td>\n",
       "    </tr>\n",
       "    <tr>\n",
       "      <th>1183</th>\n",
       "      <td>cat__Churn Category_Competitor</td>\n",
       "      <td>0.071121</td>\n",
       "    </tr>\n",
       "    <tr>\n",
       "      <th>1171</th>\n",
       "      <td>cat__Contract_Month-to-Month</td>\n",
       "      <td>0.022849</td>\n",
       "    </tr>\n",
       "    <tr>\n",
       "      <th>1190</th>\n",
       "      <td>cat__Churn Reason_Competitor had better devices</td>\n",
       "      <td>0.020137</td>\n",
       "    </tr>\n",
       "    <tr>\n",
       "      <th>1184</th>\n",
       "      <td>cat__Churn Category_Dissatisfaction</td>\n",
       "      <td>0.015034</td>\n",
       "    </tr>\n",
       "    <tr>\n",
       "      <th>1182</th>\n",
       "      <td>cat__Churn Category_Attitude</td>\n",
       "      <td>0.013118</td>\n",
       "    </tr>\n",
       "  </tbody>\n",
       "</table>\n",
       "</div>"
      ],
      "text/plain": [
       "                                              Feature  Importance\n",
       "1179                     cat__Customer Status_Churned    0.167602\n",
       "1187                          cat__Churn Category_nan    0.154737\n",
       "1208                            cat__Churn Reason_nan    0.151925\n",
       "16                            num__Satisfaction Score    0.082872\n",
       "1181                      cat__Customer Status_Stayed    0.082154\n",
       "1183                   cat__Churn Category_Competitor    0.071121\n",
       "1171                     cat__Contract_Month-to-Month    0.022849\n",
       "1190  cat__Churn Reason_Competitor had better devices    0.020137\n",
       "1184              cat__Churn Category_Dissatisfaction    0.015034\n",
       "1182                     cat__Churn Category_Attitude    0.013118"
      ]
     },
     "execution_count": 38,
     "metadata": {},
     "output_type": "execute_result"
    }
   ],
   "source": [
    "#displaying the top 10 most features\n",
    "top_features = feature_importance_df.head(10)\n",
    "top_features"
   ]
  },
  {
   "cell_type": "code",
   "execution_count": null,
   "id": "bd130f56-9081-4bd6-b46b-6e32f498ce6f",
   "metadata": {},
   "outputs": [],
   "source": []
  }
 ],
 "metadata": {
  "kernelspec": {
   "display_name": "Python 3 (ipykernel)",
   "language": "python",
   "name": "python3"
  },
  "language_info": {
   "codemirror_mode": {
    "name": "ipython",
    "version": 3
   },
   "file_extension": ".py",
   "mimetype": "text/x-python",
   "name": "python",
   "nbconvert_exporter": "python",
   "pygments_lexer": "ipython3",
   "version": "3.11.7"
  }
 },
 "nbformat": 4,
 "nbformat_minor": 5
}
